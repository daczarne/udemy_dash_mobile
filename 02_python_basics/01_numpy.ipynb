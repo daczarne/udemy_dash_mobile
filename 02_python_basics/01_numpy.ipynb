{
 "cells": [
  {
   "cell_type": "markdown",
   "metadata": {},
   "source": []
  },
  {
   "cell_type": "markdown",
   "metadata": {},
   "source": [
    "# Numpy\n",
    "\n",
    "**What is an array?**\n",
    "\n",
    "An array is the data structure of NumPy library. The elements are all of the same type, referred to as the array dtype."
   ]
  },
  {
   "cell_type": "code",
   "execution_count": 1,
   "metadata": {},
   "outputs": [],
   "source": [
    "import numpy as np"
   ]
  },
  {
   "cell_type": "markdown",
   "metadata": {},
   "source": [
    "## **Different Methods of Creating an Array**\n",
    "\n",
    "To create a NumPy array, you can use the function `np.array()`. We initialize array inside square brackets `[]`"
   ]
  },
  {
   "cell_type": "code",
   "execution_count": 3,
   "metadata": {},
   "outputs": [
    {
     "data": {
      "text/plain": [
       "array([1, 2, 3, 4, 5, 6])"
      ]
     },
     "execution_count": 3,
     "metadata": {},
     "output_type": "execute_result"
    }
   ],
   "source": [
    "a = np.array([1, 2, 3, 4, 5, 6])   \n",
    "a"
   ]
  },
  {
   "source": [
    "Creating array filled with 0s or 1s"
   ],
   "cell_type": "markdown",
   "metadata": {}
  },
  {
   "cell_type": "code",
   "execution_count": 3,
   "metadata": {},
   "outputs": [
    {
     "name": "stdout",
     "output_type": "stream",
     "text": [
      "[0. 0. 0.]\n",
      "[1. 1.]\n"
     ]
    }
   ],
   "source": [
    "np_zero = np.zeros(3)  \n",
    "print(np_zero)\n",
    "np_one = np.ones(2)\n",
    "print(np_one)"
   ]
  },
  {
   "source": [
    "Creating an array with a range of evenly spaced intervals. `np.arange(start num, end num(not included), step size)`"
   ],
   "cell_type": "markdown",
   "metadata": {}
  },
  {
   "cell_type": "code",
   "execution_count": 4,
   "metadata": {},
   "outputs": [
    {
     "name": "stdout",
     "output_type": "stream",
     "text": [
      "[2 4 6 8]\n",
      "[ 2  4  6  8 10]\n",
      "[2.  4.5 7.  9.5]\n"
     ]
    }
   ],
   "source": [
    "a_range = np.arange(2, 10, 2)\n",
    "print(a_range)\n",
    "b_range = np.arange(2, 11, 2)\n",
    "print(b_range)\n",
    "b_range = np.arange(2, 11, 2.5)\n",
    "print(b_range)"
   ]
  },
  {
   "source": [
    "We can also use np.linspace() to create an array with values that are spaced linearly in a specified interval: `np.linspace(start, end(included) , total numbers)`"
   ],
   "cell_type": "markdown",
   "metadata": {}
  },
  {
   "cell_type": "code",
   "execution_count": 5,
   "metadata": {},
   "outputs": [
    {
     "name": "stdout",
     "output_type": "stream",
     "text": [
      "[ 0.   2.5  5.   7.5 10. ]\n",
      "[ 0.          3.33333333  6.66666667 10.        ]\n"
     ]
    }
   ],
   "source": [
    "a_lspce = np.linspace(0, 10, num = 5)\n",
    "print(a_lspce)\n",
    "b_lspce = np.linspace(0, 10, num = 4)\n",
    "print(b_lspce)"
   ]
  },
  {
   "cell_type": "markdown",
   "metadata": {},
   "source": [
    "## Sorting"
   ]
  },
  {
   "cell_type": "code",
   "execution_count": 6,
   "metadata": {},
   "outputs": [
    {
     "name": "stdout",
     "output_type": "stream",
     "text": [
      "[1 2 3 4 5 7]\n",
      "[-7 -1  2  3  4  5]\n"
     ]
    }
   ],
   "source": [
    "arr1 = np.array([2, 1, 5, 3, 7, 4])\n",
    "print(np.sort(arr1))\n",
    "arr2 = np.array([2, -1, 5, 3, -7, 4])\n",
    "print(np.sort(arr2))"
   ]
  },
  {
   "cell_type": "code",
   "execution_count": 4,
   "metadata": {},
   "outputs": [
    {
     "data": {
      "text/plain": [
       "array([1, 2, 3, 4, 5, 6])"
      ]
     },
     "execution_count": 4,
     "metadata": {},
     "output_type": "execute_result"
    }
   ],
   "source": [
    "# concatenate np.concatenate().\n",
    "a = np.array([1, 2, 3, 4])\n",
    "b = np.array([5, 6])\n",
    "np.concatenate((a, b))"
   ]
  },
  {
   "source": [
    "# Delete elements from an array"
   ],
   "cell_type": "markdown",
   "metadata": {}
  },
  {
   "cell_type": "code",
   "execution_count": 5,
   "metadata": {},
   "outputs": [
    {
     "data": {
      "text/plain": [
       "array([1, 3])"
      ]
     },
     "execution_count": 5,
     "metadata": {},
     "output_type": "execute_result"
    }
   ],
   "source": [
    "# np.delete(a, index)\n",
    "a = np.array([1, 2, 3])\n",
    "# a[0] : index \n",
    "np.delete(a,1)"
   ]
  },
  {
   "cell_type": "markdown",
   "metadata": {},
   "source": [
    "## Multi Dimention Array "
   ]
  },
  {
   "cell_type": "code",
   "execution_count": 8,
   "metadata": {},
   "outputs": [
    {
     "name": "stdout",
     "output_type": "stream",
     "text": [
      "2\n",
      "8\n"
     ]
    },
    {
     "data": {
      "text/plain": [
       "(2, 4)"
      ]
     },
     "execution_count": 8,
     "metadata": {},
     "output_type": "execute_result"
    }
   ],
   "source": [
    "multi_dim = np.array([[0, 1, 2, 3], [4, 5, 6, 7]])\n",
    "print(multi_dim.ndim) # get the no of dimentions in the array \n",
    "print(multi_dim.size) # total elements in an array \n",
    "multi_dim.shape # (row, columns)"
   ]
  },
  {
   "cell_type": "code",
   "execution_count": 32,
   "metadata": {},
   "outputs": [
    {
     "name": "stdout",
     "output_type": "stream",
     "text": [
      "(2, 2, 4)\n",
      "3\n",
      "16\n"
     ]
    }
   ],
   "source": [
    "multi_dim = np.array(\n",
    "  [\n",
    "    [\n",
    "      [0, 1, 2, 3],\n",
    "      [4, 5, 6, 7]\n",
    "    ],\n",
    "    [\n",
    "      [0, 2, 4, 6],\n",
    "      [8, 10, 12, 14]\n",
    "    ]\n",
    "  ]\n",
    ")\n",
    "print(multi_dim.shape) # traverse from outer brackets and check dimentions (height, row, column)\n",
    "print(multi_dim.ndim) # get the no of dimentions in the array\n",
    "print(multi_dim.size) # total elements in an array"
   ]
  },
  {
   "cell_type": "markdown",
   "metadata": {},
   "source": [
    "## Indexing and slicing\n",
    "\n",
    "You may want to take a specific section of your array to use in further analysis or noperations. In Python, index always starts from 0."
   ]
  },
  {
   "cell_type": "code",
   "execution_count": 33,
   "metadata": {},
   "outputs": [
    {
     "name": "stdout",
     "output_type": "stream",
     "text": [
      "4\n",
      "[1 2]\n",
      "[2 3 4]\n",
      "[[1]\n",
      " [4]]\n"
     ]
    }
   ],
   "source": [
    "data = np.array([1, 2, 3, 4])\n",
    "print(data[3])\n",
    "print(data[0:2]) # pick 1st 2 elements 0,1 index. 2 index is not included\n",
    "print(data[-3:]) # pick last 3 elements in the array. \n",
    "data_2d = np.array([[1, 2, 3], [4, 5, 6]])\n",
    "print(data_2d[:2,:1]) # [row slice, column slice]"
   ]
  },
  {
   "cell_type": "code",
   "execution_count": 36,
   "metadata": {},
   "outputs": [
    {
     "name": "stdout",
     "output_type": "stream",
     "text": [
      "[1 2 3]\n",
      "[2 4]\n",
      "[3]\n",
      "[2 4]\n"
     ]
    }
   ],
   "source": [
    "# subset an array\n",
    "data = np.array([1, 2, 3, 4])\n",
    "# less than equal to 3\n",
    "print(data[data<=3])\n",
    "# divisible by 2\n",
    "print(data[data%2 == 0])\n",
    "# select elements that satisfy two conditions using the & and | operators:\n",
    "print(data[(data > 2) & (data < 4)])\n",
    "print(data[(data == 4) | (data == 2)])"
   ]
  },
  {
   "cell_type": "code",
   "execution_count": 35,
   "metadata": {},
   "outputs": [
    {
     "name": "stdout",
     "output_type": "stream",
     "text": [
      "[False False False  True  True  True]\n"
     ]
    }
   ],
   "source": [
    "# logical operators & and | can return boolean values that specify whether or not the values in an array \n",
    "# fulfill a certain condition.\n",
    "data = np.array([1, 2, 3, 4, 5, 6])\n",
    "gt_eq_4 = (data > 4) | (data == 4)\n",
    "print(gt_eq_4)"
   ]
  },
  {
   "cell_type": "markdown",
   "metadata": {},
   "source": [
    "## Basic Array operations "
   ]
  },
  {
   "cell_type": "code",
   "execution_count": 9,
   "metadata": {},
   "outputs": [
    {
     "data": {
      "text/plain": [
       "array([2, 3, 4])"
      ]
     },
     "execution_count": 9,
     "metadata": {},
     "output_type": "execute_result"
    }
   ],
   "source": [
    "# Addition\n",
    "data = np.array([1, 2, 3])  \n",
    "ones = np.ones(3, dtype = int)  # creating an array of ones \n",
    "data + ones"
   ]
  },
  {
   "cell_type": "code",
   "execution_count": 39,
   "metadata": {},
   "outputs": [
    {
     "name": "stdout",
     "output_type": "stream",
     "text": [
      "[0 1 2]\n",
      "[1. 2. 3.]\n",
      "[1 2 3]\n"
     ]
    }
   ],
   "source": [
    "# substaction \n",
    "print(data - ones)\n",
    "# division \n",
    "print(data / ones)\n",
    "# multiplication \n",
    "print(data * ones)"
   ]
  },
  {
   "cell_type": "code",
   "execution_count": 40,
   "metadata": {},
   "outputs": [
    {
     "name": "stdout",
     "output_type": "stream",
     "text": [
      "10\n",
      "[3 3]\n",
      "[2 4]\n"
     ]
    }
   ],
   "source": [
    "# sum of elements in an array \n",
    "a = np.array([1, 2, 3, 4])\n",
    "print(a.sum())\n",
    "# multi-dimention\n",
    "b = np.array([[1, 1], [2, 2]])\n",
    "print(b.sum(axis = 0)) # sum across columns\n",
    "print(b.sum(axis = 1)) # sum across rows"
   ]
  },
  {
   "cell_type": "code",
   "execution_count": 41,
   "metadata": {},
   "outputs": [
    {
     "name": "stdout",
     "output_type": "stream",
     "text": [
      "1\n",
      "5\n",
      "3.0\n",
      "1.4142135623730951\n"
     ]
    }
   ],
   "source": [
    "# min, max, mean and std\n",
    "a = np.array([1, 2, 3, 4, 5])\n",
    "# minimum in an array\n",
    "print(a.min())\n",
    "# maximum of an array \n",
    "print(a.max())\n",
    "# mean of an array\n",
    "print(a.mean())\n",
    "# standard deviation of an array\n",
    "print(a.std())"
   ]
  },
  {
   "cell_type": "code",
   "execution_count": 2,
   "metadata": {},
   "outputs": [
    {
     "name": "stdout",
     "output_type": "stream",
     "text": [
      "10\n",
      "4\n",
      "[2 1]\n"
     ]
    },
    {
     "data": {
      "text/plain": [
       "array([1, 3])"
      ]
     },
     "execution_count": 2,
     "metadata": {},
     "output_type": "execute_result"
    }
   ],
   "source": [
    "# operations: multi - dimention array \n",
    "data = np.array([[2, 1], [3, 4]])\n",
    "print(data.sum())\n",
    "print(data.max())\n",
    "print(data.min(axis = 0)) #minimum across column\n",
    "(data.min(axis = 1)) #minimum across row"
   ]
  }
 ],
 "metadata": {
  "kernelspec": {
   "display_name": "Python 3",
   "language": "python",
   "name": "python3"
  },
  "language_info": {
   "codemirror_mode": {
    "name": "ipython",
    "version": 3
   },
   "file_extension": ".py",
   "mimetype": "text/x-python",
   "name": "python",
   "nbconvert_exporter": "python",
   "pygments_lexer": "ipython3",
   "version": "3.8.3"
  }
 },
 "nbformat": 4,
 "nbformat_minor": 4
}