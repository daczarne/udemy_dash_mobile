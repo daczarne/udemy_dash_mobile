{
 "cells": [
  {
   "cell_type": "markdown",
   "metadata": {},
   "source": [
    "# Pandas Basics\n",
    "\n",
    "DataFrames allow you to store and manipulate tabular data in rows of observations and columns of variables."
   ]
  },
  {
   "cell_type": "markdown",
   "metadata": {},
   "source": [
    "### Lists in Python :\n",
    "\n",
    "- Collection of items of different data types.\n",
    "- Enclosed in square bracker [].\n",
    "- Seperated by commas."
   ]
  },
  {
   "cell_type": "code",
   "execution_count": 48,
   "metadata": {},
   "outputs": [
    {
     "output_type": "stream",
     "name": "stdout",
     "text": [
      "[1, 2, 3, 4]\n[1, 'Jerry', 'Science', 79.5, True]\n"
     ]
    }
   ],
   "source": [
    "# List \n",
    "num_list = [1, 2, 3, 4]\n",
    "print(num_list)\n",
    "mix_list = [1, \"Jerry\", \"Science\", 79.5, True]\n",
    "print(mix_list)"
   ]
  },
  {
   "cell_type": "markdown",
   "metadata": {},
   "source": [
    "### Access elements of a list"
   ]
  },
  {
   "cell_type": "code",
   "execution_count": 49,
   "metadata": {},
   "outputs": [
    {
     "output_type": "stream",
     "name": "stdout",
     "text": [
      "1\n[1, 'Jerry', 'Science']\n[1, 'Jerry', 'Computer', 79.5, True]\n"
     ]
    }
   ],
   "source": [
    "mix_list = [1, \"Jerry\", \"Science\", 79.5, True]\n",
    "print(mix_list[0])\n",
    "print(mix_list[:3])\n",
    "# modify elements \n",
    "mix_list[2] = \"Computer\"\n",
    "print(mix_list)"
   ]
  },
  {
   "cell_type": "markdown",
   "metadata": {},
   "source": [
    "### Adding, removing and sorting elements "
   ]
  },
  {
   "cell_type": "code",
   "execution_count": 50,
   "metadata": {},
   "outputs": [
    {
     "output_type": "stream",
     "name": "stdout",
     "text": [
      "['Python', 'Perl', 'R', 'Java', 'C++']\n['Python', 'Perl', 'R', 'C++']\n['C++', 'Perl', 'Python', 'R']\n"
     ]
    }
   ],
   "source": [
    "# adding \n",
    "sub_list = [\"Python\", \"Perl\", \"Java\", \"C++\"]\n",
    "sub_list.insert(2, \"R\")\n",
    "print(sub_list)\n",
    "# removing\n",
    "sub_list.remove(\"Java\")\n",
    "print(sub_list)\n",
    "# sorting \n",
    "sub_list.sort()\n",
    "print(sub_list)"
   ]
  },
  {
   "cell_type": "markdown",
   "metadata": {},
   "source": [
    "### Operations on a list "
   ]
  },
  {
   "cell_type": "code",
   "execution_count": 51,
   "metadata": {},
   "outputs": [
    {
     "output_type": "stream",
     "name": "stdout",
     "text": [
      "4\nPython\n5\n"
     ]
    }
   ],
   "source": [
    "# find length of a list\n",
    "sub_list = [\"Python\", \"Perl\", \"Java\", \"C++\"]\n",
    "num_list = [1, 3, 4, 5]\n",
    "print(len(sub_list))\n",
    "# max in a list - for homogenous list \n",
    "print(max(sub_list))\n",
    "print(max(num_list))"
   ]
  },
  {
   "cell_type": "code",
   "execution_count": 52,
   "metadata": {},
   "outputs": [
    {
     "output_type": "stream",
     "name": "stdout",
     "text": [
      "[1, 3, 4, 5, 6]\n[1, 3, 4, 5]\n[5, 4, 3, 1]\n"
     ]
    }
   ],
   "source": [
    "# append - it adds the element at the end of the list  \n",
    "num_list.append(6)\n",
    "print(num_list)\n",
    "#pop - Removes and returns the last object in the list.\n",
    "num_list.pop()\n",
    "print(num_list)\n",
    "#reverse - reverses the order of list \n",
    "num_list.reverse()\n",
    "print(num_list)"
   ]
  },
  {
   "cell_type": "markdown",
   "metadata": {},
   "source": [
    "### Some more operations "
   ]
  },
  {
   "cell_type": "code",
   "execution_count": 53,
   "metadata": {},
   "outputs": [
    {
     "output_type": "stream",
     "name": "stdout",
     "text": [
      "[1, 3, 4, 5, 5, 6, 7]\n"
     ]
    }
   ],
   "source": [
    "# concate\n",
    "num_list1 = [1, 3, 4, 5]\n",
    "num_list2 = [5, 6, 7]\n",
    "print(num_list1 + num_list2)"
   ]
  },
  {
   "cell_type": "code",
   "execution_count": 54,
   "metadata": {},
   "outputs": [
    {
     "output_type": "stream",
     "name": "stdout",
     "text": [
      "[1, 3, 4, 5, 1, 3, 4, 5]\n",
      "True\n",
      "False\n"
     ]
    }
   ],
   "source": [
    "# repeating the list n times \n",
    "new_list = num_list1*2\n",
    "print(new_list)\n",
    "# boolean : checking if a number is present in a list \n",
    "print(4 in new_list)\n",
    "## boolean : checking if a number is not present in a list\n",
    "print(4 not in new_list)"
   ]
  },
  {
   "cell_type": "markdown",
   "metadata": {},
   "source": [
    "## Pandas\n",
    "\n",
    "The primary two components of pandas are the Series and DataFrame. A Series is essentially a column, and a DataFrame is a multi-dimensional table made up of a collection of Series."
   ]
  },
  {
   "cell_type": "code",
   "execution_count": 55,
   "metadata": {},
   "outputs": [],
   "source": [
    "# import pandas \n",
    "import pandas as pd\n",
    "import numpy as np"
   ]
  },
  {
   "cell_type": "code",
   "execution_count": 56,
   "metadata": {},
   "outputs": [
    {
     "output_type": "stream",
     "name": "stdout",
     "text": [
      "0    Jenny\n1     Ravi\n2     John\n3    Harry\ndtype: object\n0    99\n1    83\n2    85\n3    76\ndtype: int64\n"
     ]
    }
   ],
   "source": [
    "# creating series\n",
    "s1 = pd.Series([\"Jenny\", \"Ravi\", \"John\", \"Harry\"])\n",
    "print(s1)\n",
    "s2 = pd.Series([99, 83, 85, 76])\n",
    "print(s2)"
   ]
  },
  {
   "cell_type": "markdown",
   "metadata": {},
   "source": [
    "## Creating/Reading data\n",
    "\n",
    "From series"
   ]
  },
  {
   "cell_type": "code",
   "execution_count": 57,
   "metadata": {},
   "outputs": [
    {
     "output_type": "stream",
     "name": "stdout",
     "text": [
      "0    Jenny\n1     Ravi\n2     John\n3    Harry\ndtype: object\n"
     ]
    },
    {
     "output_type": "execute_result",
     "data": {
      "text/plain": [
       "    Name  Math_score  Science_score\n",
       "0  Jenny          99             90\n",
       "1   Ravi          83             95\n",
       "2   John          85             88\n",
       "3  Harry          76             79"
      ],
      "text/html": "<div>\n<style scoped>\n    .dataframe tbody tr th:only-of-type {\n        vertical-align: middle;\n    }\n\n    .dataframe tbody tr th {\n        vertical-align: top;\n    }\n\n    .dataframe thead th {\n        text-align: right;\n    }\n</style>\n<table border=\"1\" class=\"dataframe\">\n  <thead>\n    <tr style=\"text-align: right;\">\n      <th></th>\n      <th>Name</th>\n      <th>Math_score</th>\n      <th>Science_score</th>\n    </tr>\n  </thead>\n  <tbody>\n    <tr>\n      <th>0</th>\n      <td>Jenny</td>\n      <td>99</td>\n      <td>90</td>\n    </tr>\n    <tr>\n      <th>1</th>\n      <td>Ravi</td>\n      <td>83</td>\n      <td>95</td>\n    </tr>\n    <tr>\n      <th>2</th>\n      <td>John</td>\n      <td>85</td>\n      <td>88</td>\n    </tr>\n    <tr>\n      <th>3</th>\n      <td>Harry</td>\n      <td>76</td>\n      <td>79</td>\n    </tr>\n  </tbody>\n</table>\n</div>"
     },
     "metadata": {},
     "execution_count": 57
    }
   ],
   "source": [
    "# create data from series\n",
    "s3 = pd.Series([90, 95, 88, 79])\n",
    "frame = {\"Name\": s1, \"Math_score\": s2, \"Science_score\":s3}\n",
    "print(frame[\"Name\"])\n",
    "df_sub = pd.DataFrame(frame)\n",
    "df_sub.head()"
   ]
  },
  {
   "cell_type": "markdown",
   "metadata": {},
   "source": [
    "### Reading csv"
   ]
  },
  {
   "cell_type": "code",
   "execution_count": 58,
   "metadata": {},
   "outputs": [
    {
     "output_type": "stream",
     "name": "stdout",
     "text": [
      "    fips  unemp\n0  01001    5.3\n1  01003    5.4\n2  01005    8.6\n3  01007    6.6\n4  01009    5.5\n"
     ]
    }
   ],
   "source": [
    "df = pd.read_csv(\n",
    "    \"https://raw.githubusercontent.com/plotly/datasets/master/fips-unemp-16.csv\",\n",
    "    dtype = {\"fips\": str}\n",
    ")\n",
    "print(df.head())"
   ]
  },
  {
   "cell_type": "code",
   "execution_count": 59,
   "metadata": {},
   "outputs": [],
   "source": [
    "# df = pd.read_csv(\"countries_data.csv\", index_col = 0)\n",
    "# df.head()"
   ]
  },
  {
   "cell_type": "markdown",
   "metadata": {},
   "source": [
    "### Reading xlsx"
   ]
  },
  {
   "cell_type": "code",
   "execution_count": 60,
   "metadata": {},
   "outputs": [],
   "source": [
    "# Essentially a stored Python dict\n",
    "# xlsx = pd.ExcelFile('PATH\\FileName.xlsx')\n",
    "# sheet1 = xlsx.parse(0)\n",
    "# print(sheet1.head())\n",
    "# print(sheet1.tail())"
   ]
  },
  {
   "cell_type": "markdown",
   "metadata": {},
   "source": [
    "### Data summary "
   ]
  },
  {
   "cell_type": "code",
   "execution_count": 61,
   "metadata": {},
   "outputs": [
    {
     "output_type": "stream",
     "name": "stdout",
     "text": [
      "         Name  Math_score  Science_score\ncount       4    4.000000       4.000000\nunique      4         NaN            NaN\ntop     Harry         NaN            NaN\nfreq        1         NaN            NaN\nmean      NaN   85.750000      88.000000\nstd       NaN    9.639329       6.683313\nmin       NaN   76.000000      79.000000\n25%       NaN   81.250000      85.750000\n50%       NaN   84.000000      89.000000\n75%       NaN   88.500000      91.250000\nmax       NaN   99.000000      95.000000\n"
     ]
    }
   ],
   "source": [
    "# summary numeric data \n",
    "print(df_sub.describe(include = \"all\"))"
   ]
  },
  {
   "cell_type": "code",
   "execution_count": 62,
   "metadata": {},
   "outputs": [
    {
     "output_type": "stream",
     "name": "stdout",
     "text": [
      "<class 'pandas.core.frame.DataFrame'>\nRangeIndex: 4 entries, 0 to 3\nData columns (total 3 columns):\n #   Column         Non-Null Count  Dtype \n---  ------         --------------  ----- \n 0   Name           4 non-null      object\n 1   Math_score     4 non-null      int64 \n 2   Science_score  4 non-null      int64 \ndtypes: int64(2), object(1)\nmemory usage: 224.0+ bytes\nNone\n(4, 3)\n"
     ]
    }
   ],
   "source": [
    "print(df_sub.info())\n",
    "print(df_sub.shape)"
   ]
  },
  {
   "cell_type": "markdown",
   "metadata": {},
   "source": [
    "### Data Selection "
   ]
  },
  {
   "cell_type": "code",
   "execution_count": 63,
   "metadata": {},
   "outputs": [
    {
     "output_type": "stream",
     "name": "stdout",
     "text": [
      "0    Jenny\n1     Ravi\n2     John\n3    Harry\nName: Name, dtype: object\n"
     ]
    },
    {
     "output_type": "execute_result",
     "data": {
      "text/plain": [
       "    Name  Math_score  Science_score\n",
       "0  Jenny          99             90\n",
       "1   Ravi          83             95\n",
       "2   John          85             88"
      ],
      "text/html": "<div>\n<style scoped>\n    .dataframe tbody tr th:only-of-type {\n        vertical-align: middle;\n    }\n\n    .dataframe tbody tr th {\n        vertical-align: top;\n    }\n\n    .dataframe thead th {\n        text-align: right;\n    }\n</style>\n<table border=\"1\" class=\"dataframe\">\n  <thead>\n    <tr style=\"text-align: right;\">\n      <th></th>\n      <th>Name</th>\n      <th>Math_score</th>\n      <th>Science_score</th>\n    </tr>\n  </thead>\n  <tbody>\n    <tr>\n      <th>0</th>\n      <td>Jenny</td>\n      <td>99</td>\n      <td>90</td>\n    </tr>\n    <tr>\n      <th>1</th>\n      <td>Ravi</td>\n      <td>83</td>\n      <td>95</td>\n    </tr>\n    <tr>\n      <th>2</th>\n      <td>John</td>\n      <td>85</td>\n      <td>88</td>\n    </tr>\n  </tbody>\n</table>\n</div>"
     },
     "metadata": {},
     "execution_count": 63
    }
   ],
   "source": [
    "# selecting a column\n",
    "print(df_sub[\"Name\"])\n",
    "# selecting top 3 rows \n",
    "df_sub[:3]"
   ]
  },
  {
   "cell_type": "markdown",
   "metadata": {},
   "source": [
    "### Selection by label - .loc"
   ]
  },
  {
   "cell_type": "code",
   "execution_count": 64,
   "metadata": {},
   "outputs": [
    {
     "output_type": "stream",
     "name": "stdout",
     "text": [
      "0    Jenny\n1     Ravi\n2     John\n3    Harry\nName: Name, dtype: object\n    Name  Science_score\n0  Jenny             90\n1   Ravi             95\n2   John             88\n"
     ]
    }
   ],
   "source": [
    "print(df_sub.loc[:, \"Name\"])\n",
    "print(df_sub.loc[:2, [\"Name\", \"Science_score\"]])"
   ]
  },
  {
   "cell_type": "markdown",
   "metadata": {},
   "source": [
    "### Selection by position - .iloc"
   ]
  },
  {
   "cell_type": "code",
   "execution_count": 65,
   "metadata": {},
   "outputs": [
    {
     "output_type": "stream",
     "name": "stdout",
     "text": [
      "    Name  Math_score\n0  Jenny          99\n1   Ravi          83\n2   John          85\n3  Harry          76\n    Name  Math_score  Science_score\n0  Jenny          99             90\n1   Ravi          83             95\n"
     ]
    }
   ],
   "source": [
    "print(df_sub.iloc[:, :2])\n",
    "print(df_sub.iloc[:2, :3])"
   ]
  },
  {
   "cell_type": "markdown",
   "metadata": {},
   "source": [
    "### Setting and filtering values"
   ]
  },
  {
   "cell_type": "code",
   "execution_count": 66,
   "metadata": {},
   "outputs": [
    {
     "output_type": "stream",
     "name": "stdout",
     "text": [
      "    Name  Math_score  Science_score\n0  Jerry          99             90\n1   Ravi          83             95\n2   John          85             88\n3  Harry          76             79\n    Name  Math_score  Science_score\n0  Jerry          99             90\n1   Ravi          83             95\n2   John          85             88\n3  Harry          76             79\n"
     ]
    }
   ],
   "source": [
    "df_sub.loc[df_sub[\"Name\"] == \"Jenny\", \"Name\"] = \"Jerry\"\n",
    "print(df_sub)\n",
    "df_sub.iloc[0, 0] = \"Jerry\"\n",
    "print(df_sub)"
   ]
  },
  {
   "cell_type": "code",
   "execution_count": 67,
   "metadata": {},
   "outputs": [
    {
     "output_type": "stream",
     "name": "stdout",
     "text": [
      "    Name  Science_score\n0  Jerry             90\n1   Ravi             95\n"
     ]
    }
   ],
   "source": [
    "print(df_sub.loc[df_sub[\"Science_score\"] >= 90, [\"Name\", \"Science_score\"]])"
   ]
  },
  {
   "cell_type": "markdown",
   "metadata": {},
   "source": [
    "### Missing value treatment"
   ]
  },
  {
   "cell_type": "code",
   "execution_count": 68,
   "metadata": {},
   "outputs": [
    {
     "output_type": "stream",
     "name": "stdout",
     "text": [
      "    Name  Math_score  Science_score\n",
      "0  Jerry          99            NaN\n",
      "1   Ravi          83           95.0\n",
      "2   John          85           88.0\n",
      "3  Harry          76           79.0\n"
     ]
    }
   ],
   "source": [
    "df_sub.iloc[0, 2] = np.nan\n",
    "print(df_sub)"
   ]
  },
  {
   "cell_type": "code",
   "execution_count": 69,
   "metadata": {},
   "outputs": [
    {
     "output_type": "execute_result",
     "data": {
      "text/plain": [
       "    Name  Math_score  Science_score\n",
       "1   Ravi          83           95.0\n",
       "2   John          85           88.0\n",
       "3  Harry          76           79.0"
      ],
      "text/html": "<div>\n<style scoped>\n    .dataframe tbody tr th:only-of-type {\n        vertical-align: middle;\n    }\n\n    .dataframe tbody tr th {\n        vertical-align: top;\n    }\n\n    .dataframe thead th {\n        text-align: right;\n    }\n</style>\n<table border=\"1\" class=\"dataframe\">\n  <thead>\n    <tr style=\"text-align: right;\">\n      <th></th>\n      <th>Name</th>\n      <th>Math_score</th>\n      <th>Science_score</th>\n    </tr>\n  </thead>\n  <tbody>\n    <tr>\n      <th>1</th>\n      <td>Ravi</td>\n      <td>83</td>\n      <td>95.0</td>\n    </tr>\n    <tr>\n      <th>2</th>\n      <td>John</td>\n      <td>85</td>\n      <td>88.0</td>\n    </tr>\n    <tr>\n      <th>3</th>\n      <td>Harry</td>\n      <td>76</td>\n      <td>79.0</td>\n    </tr>\n  </tbody>\n</table>\n</div>"
     },
     "metadata": {},
     "execution_count": 69
    }
   ],
   "source": [
    "df_sub.dropna(how = \"any\") # To drop any rows that have missing data."
   ]
  },
  {
   "cell_type": "code",
   "execution_count": 70,
   "metadata": {},
   "outputs": [
    {
     "output_type": "execute_result",
     "data": {
      "text/plain": [
       "    Name  Math_score  Science_score\n",
       "0  Jerry          99      87.333333\n",
       "1   Ravi          83      95.000000\n",
       "2   John          85      88.000000\n",
       "3  Harry          76      79.000000"
      ],
      "text/html": "<div>\n<style scoped>\n    .dataframe tbody tr th:only-of-type {\n        vertical-align: middle;\n    }\n\n    .dataframe tbody tr th {\n        vertical-align: top;\n    }\n\n    .dataframe thead th {\n        text-align: right;\n    }\n</style>\n<table border=\"1\" class=\"dataframe\">\n  <thead>\n    <tr style=\"text-align: right;\">\n      <th></th>\n      <th>Name</th>\n      <th>Math_score</th>\n      <th>Science_score</th>\n    </tr>\n  </thead>\n  <tbody>\n    <tr>\n      <th>0</th>\n      <td>Jerry</td>\n      <td>99</td>\n      <td>87.333333</td>\n    </tr>\n    <tr>\n      <th>1</th>\n      <td>Ravi</td>\n      <td>83</td>\n      <td>95.000000</td>\n    </tr>\n    <tr>\n      <th>2</th>\n      <td>John</td>\n      <td>85</td>\n      <td>88.000000</td>\n    </tr>\n    <tr>\n      <th>3</th>\n      <td>Harry</td>\n      <td>76</td>\n      <td>79.000000</td>\n    </tr>\n  </tbody>\n</table>\n</div>"
     },
     "metadata": {},
     "execution_count": 70
    }
   ],
   "source": [
    "# substitute missing value with mean\n",
    "mean_score = np.mean(df_sub[\"Science_score\"])\n",
    "df_sub.fillna(value = mean_score)"
   ]
  },
  {
   "cell_type": "markdown",
   "metadata": {},
   "source": [
    "### Merging dataframe"
   ]
  },
  {
   "cell_type": "code",
   "execution_count": 71,
   "metadata": {},
   "outputs": [
    {
     "output_type": "execute_result",
     "data": {
      "text/plain": [
       "     Name  Math_score  Science_score\n",
       "0  Rachel          95             98"
      ],
      "text/html": "<div>\n<style scoped>\n    .dataframe tbody tr th:only-of-type {\n        vertical-align: middle;\n    }\n\n    .dataframe tbody tr th {\n        vertical-align: top;\n    }\n\n    .dataframe thead th {\n        text-align: right;\n    }\n</style>\n<table border=\"1\" class=\"dataframe\">\n  <thead>\n    <tr style=\"text-align: right;\">\n      <th></th>\n      <th>Name</th>\n      <th>Math_score</th>\n      <th>Science_score</th>\n    </tr>\n  </thead>\n  <tbody>\n    <tr>\n      <th>0</th>\n      <td>Rachel</td>\n      <td>95</td>\n      <td>98</td>\n    </tr>\n  </tbody>\n</table>\n</div>"
     },
     "metadata": {},
     "execution_count": 71
    }
   ],
   "source": [
    "# Concat \n",
    "new_df = pd.DataFrame({\n",
    "    \"Name\": [\"Rachel\"],\n",
    "    \"Math_score\": [95],\n",
    "    \"Science_score\": [98]\n",
    "})\n",
    "new_df"
   ]
  },
  {
   "cell_type": "code",
   "execution_count": 72,
   "metadata": {
    "scrolled": true
   },
   "outputs": [
    {
     "output_type": "execute_result",
     "data": {
      "text/plain": [
       "     Name  Math_score  Science_score\n",
       "0   Jerry          99            NaN\n",
       "1    Ravi          83           95.0\n",
       "2    John          85           88.0\n",
       "3   Harry          76           79.0\n",
       "4  Rachel          95           98.0"
      ],
      "text/html": "<div>\n<style scoped>\n    .dataframe tbody tr th:only-of-type {\n        vertical-align: middle;\n    }\n\n    .dataframe tbody tr th {\n        vertical-align: top;\n    }\n\n    .dataframe thead th {\n        text-align: right;\n    }\n</style>\n<table border=\"1\" class=\"dataframe\">\n  <thead>\n    <tr style=\"text-align: right;\">\n      <th></th>\n      <th>Name</th>\n      <th>Math_score</th>\n      <th>Science_score</th>\n    </tr>\n  </thead>\n  <tbody>\n    <tr>\n      <th>0</th>\n      <td>Jerry</td>\n      <td>99</td>\n      <td>NaN</td>\n    </tr>\n    <tr>\n      <th>1</th>\n      <td>Ravi</td>\n      <td>83</td>\n      <td>95.0</td>\n    </tr>\n    <tr>\n      <th>2</th>\n      <td>John</td>\n      <td>85</td>\n      <td>88.0</td>\n    </tr>\n    <tr>\n      <th>3</th>\n      <td>Harry</td>\n      <td>76</td>\n      <td>79.0</td>\n    </tr>\n    <tr>\n      <th>4</th>\n      <td>Rachel</td>\n      <td>95</td>\n      <td>98.0</td>\n    </tr>\n  </tbody>\n</table>\n</div>"
     },
     "metadata": {},
     "execution_count": 72
    }
   ],
   "source": [
    "# concat\n",
    "df_concat = pd.concat([df_sub, new_df])\n",
    "df_concat.reset_index(inplace = True)\n",
    "df_concat.drop(columns = [\"index\"], inplace = True)\n",
    "df_concat"
   ]
  },
  {
   "cell_type": "code",
   "execution_count": 73,
   "metadata": {},
   "outputs": [
    {
     "output_type": "execute_result",
     "data": {
      "text/plain": [
       "     Name  Math_score  Science_score Section\n",
       "0   Jerry          99            NaN       A\n",
       "1    Ravi          83           95.0       B\n",
       "2    John          85           88.0       A\n",
       "3   Harry          76           79.0       B\n",
       "4  Rachel          95           98.0       A"
      ],
      "text/html": "<div>\n<style scoped>\n    .dataframe tbody tr th:only-of-type {\n        vertical-align: middle;\n    }\n\n    .dataframe tbody tr th {\n        vertical-align: top;\n    }\n\n    .dataframe thead th {\n        text-align: right;\n    }\n</style>\n<table border=\"1\" class=\"dataframe\">\n  <thead>\n    <tr style=\"text-align: right;\">\n      <th></th>\n      <th>Name</th>\n      <th>Math_score</th>\n      <th>Science_score</th>\n      <th>Section</th>\n    </tr>\n  </thead>\n  <tbody>\n    <tr>\n      <th>0</th>\n      <td>Jerry</td>\n      <td>99</td>\n      <td>NaN</td>\n      <td>A</td>\n    </tr>\n    <tr>\n      <th>1</th>\n      <td>Ravi</td>\n      <td>83</td>\n      <td>95.0</td>\n      <td>B</td>\n    </tr>\n    <tr>\n      <th>2</th>\n      <td>John</td>\n      <td>85</td>\n      <td>88.0</td>\n      <td>A</td>\n    </tr>\n    <tr>\n      <th>3</th>\n      <td>Harry</td>\n      <td>76</td>\n      <td>79.0</td>\n      <td>B</td>\n    </tr>\n    <tr>\n      <th>4</th>\n      <td>Rachel</td>\n      <td>95</td>\n      <td>98.0</td>\n      <td>A</td>\n    </tr>\n  </tbody>\n</table>\n</div>"
     },
     "metadata": {},
     "execution_count": 73
    }
   ],
   "source": [
    "# Join\n",
    "s1 = [\"Jerry\", \"Ravi\", \"John\", \"Harry\", \"Rachel\"]\n",
    "s2 = [\"A\", \"B\", \"A\", \"B\", \"A\"]\n",
    "df_last_name = pd.DataFrame({\n",
    "    \"Name\": s1,\n",
    "    \"Section\": s2\n",
    "})\n",
    "df_last_name\n",
    "df_merge = pd.merge(df_concat, df_last_name, on = \"Name\", how = \"inner\")\n",
    "df_merge"
   ]
  },
  {
   "cell_type": "markdown",
   "metadata": {},
   "source": [
    "### Grouping data"
   ]
  },
  {
   "cell_type": "code",
   "execution_count": 79,
   "metadata": {},
   "outputs": [
    {
     "output_type": "stream",
     "name": "stdout",
     "text": [
      "Section\nA    93.0\nB    79.5\nName: Math_score, dtype: float64\nSection\nA    3\nB    2\nName: Name, dtype: int64\n"
     ]
    }
   ],
   "source": [
    "# average score in Mathemetics per section \n",
    "print(df_merge.groupby([\"Section\"])[\"Math_score\"].mean())\n",
    "print(df_merge.groupby([\"Section\"])[\"Name\"].count())"
   ]
  },
  {
   "cell_type": "markdown",
   "metadata": {},
   "source": [
    "### Loops in pandas "
   ]
  },
  {
   "cell_type": "code",
   "execution_count": 75,
   "metadata": {},
   "outputs": [
    {
     "output_type": "stream",
     "name": "stdout",
     "text": [
      "0\nJerry\n99\n1\nRavi\n83\n2\nJohn\n85\n3\nHarry\n76\n4\nRachel\n95\n"
     ]
    }
   ],
   "source": [
    "for index, row in df_merge.iterrows():\n",
    "    print(index) # index of the df\n",
    "    print(row[\"Name\"])\n",
    "    print(df_merge.loc[index, \"Math_score\"])"
   ]
  },
  {
   "cell_type": "markdown",
   "metadata": {},
   "source": [
    "### Functions in pandas "
   ]
  },
  {
   "cell_type": "code",
   "execution_count": 76,
   "metadata": {},
   "outputs": [],
   "source": [
    "# initialized using def \n",
    "def rating_function(x):\n",
    "    if x >= 80:\n",
    "        return \"good\"\n",
    "    elif (x < 80) & (x > 60):\n",
    "        return \"descent\"\n",
    "    else :\n",
    "        return \"bad\""
   ]
  },
  {
   "cell_type": "code",
   "execution_count": 77,
   "metadata": {},
   "outputs": [
    {
     "output_type": "execute_result",
     "data": {
      "text/plain": [
       "     Name  Math_score  Science_score Section Math_grade\n",
       "0   Jerry          99            NaN       A       good\n",
       "1    Ravi          83           95.0       B       good\n",
       "2    John          85           88.0       A       good\n",
       "3   Harry          76           79.0       B    descent\n",
       "4  Rachel          95           98.0       A       good"
      ],
      "text/html": "<div>\n<style scoped>\n    .dataframe tbody tr th:only-of-type {\n        vertical-align: middle;\n    }\n\n    .dataframe tbody tr th {\n        vertical-align: top;\n    }\n\n    .dataframe thead th {\n        text-align: right;\n    }\n</style>\n<table border=\"1\" class=\"dataframe\">\n  <thead>\n    <tr style=\"text-align: right;\">\n      <th></th>\n      <th>Name</th>\n      <th>Math_score</th>\n      <th>Science_score</th>\n      <th>Section</th>\n      <th>Math_grade</th>\n    </tr>\n  </thead>\n  <tbody>\n    <tr>\n      <th>0</th>\n      <td>Jerry</td>\n      <td>99</td>\n      <td>NaN</td>\n      <td>A</td>\n      <td>good</td>\n    </tr>\n    <tr>\n      <th>1</th>\n      <td>Ravi</td>\n      <td>83</td>\n      <td>95.0</td>\n      <td>B</td>\n      <td>good</td>\n    </tr>\n    <tr>\n      <th>2</th>\n      <td>John</td>\n      <td>85</td>\n      <td>88.0</td>\n      <td>A</td>\n      <td>good</td>\n    </tr>\n    <tr>\n      <th>3</th>\n      <td>Harry</td>\n      <td>76</td>\n      <td>79.0</td>\n      <td>B</td>\n      <td>descent</td>\n    </tr>\n    <tr>\n      <th>4</th>\n      <td>Rachel</td>\n      <td>95</td>\n      <td>98.0</td>\n      <td>A</td>\n      <td>good</td>\n    </tr>\n  </tbody>\n</table>\n</div>"
     },
     "metadata": {},
     "execution_count": 77
    }
   ],
   "source": [
    "# rating_function(df_merge['Math_score'])\n",
    "for index, row in df_merge.iterrows():\n",
    "    df_merge.loc[index, \"Math_grade\"] = rating_function(row[\"Math_score\"])    \n",
    "df_merge"
   ]
  },
  {
   "cell_type": "code",
   "execution_count": 78,
   "metadata": {},
   "outputs": [
    {
     "output_type": "execute_result",
     "data": {
      "text/plain": [
       "     Name  Math_score  Science_score Section Math_grade\n",
       "0   Jerry          99            NaN       A       good\n",
       "1    Ravi          83           95.0       B       good\n",
       "2    John          85           88.0       A       good\n",
       "3   Harry          76           79.0       B    descent\n",
       "4  Rachel          95           98.0       A       good"
      ],
      "text/html": "<div>\n<style scoped>\n    .dataframe tbody tr th:only-of-type {\n        vertical-align: middle;\n    }\n\n    .dataframe tbody tr th {\n        vertical-align: top;\n    }\n\n    .dataframe thead th {\n        text-align: right;\n    }\n</style>\n<table border=\"1\" class=\"dataframe\">\n  <thead>\n    <tr style=\"text-align: right;\">\n      <th></th>\n      <th>Name</th>\n      <th>Math_score</th>\n      <th>Science_score</th>\n      <th>Section</th>\n      <th>Math_grade</th>\n    </tr>\n  </thead>\n  <tbody>\n    <tr>\n      <th>0</th>\n      <td>Jerry</td>\n      <td>99</td>\n      <td>NaN</td>\n      <td>A</td>\n      <td>good</td>\n    </tr>\n    <tr>\n      <th>1</th>\n      <td>Ravi</td>\n      <td>83</td>\n      <td>95.0</td>\n      <td>B</td>\n      <td>good</td>\n    </tr>\n    <tr>\n      <th>2</th>\n      <td>John</td>\n      <td>85</td>\n      <td>88.0</td>\n      <td>A</td>\n      <td>good</td>\n    </tr>\n    <tr>\n      <th>3</th>\n      <td>Harry</td>\n      <td>76</td>\n      <td>79.0</td>\n      <td>B</td>\n      <td>descent</td>\n    </tr>\n    <tr>\n      <th>4</th>\n      <td>Rachel</td>\n      <td>95</td>\n      <td>98.0</td>\n      <td>A</td>\n      <td>good</td>\n    </tr>\n  </tbody>\n</table>\n</div>"
     },
     "metadata": {},
     "execution_count": 78
    }
   ],
   "source": [
    "# Apply fn \n",
    "df_merge[\"Math_grade\"] = df_merge[\"Math_score\"].apply(rating_function)\n",
    "df_merge"
   ]
  }
 ],
 "metadata": {
  "kernelspec": {
   "display_name": "Python 3",
   "language": "python",
   "name": "python3"
  },
  "language_info": {
   "codemirror_mode": {
    "name": "ipython",
    "version": 3
   },
   "file_extension": ".py",
   "mimetype": "text/x-python",
   "name": "python",
   "nbconvert_exporter": "python",
   "pygments_lexer": "ipython3",
   "version": "3.9.2-final"
  }
 },
 "nbformat": 4,
 "nbformat_minor": 4
}